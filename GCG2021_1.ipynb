{
  "nbformat": 4,
  "nbformat_minor": 0,
  "metadata": {
    "colab": {
      "name": "GCG2021-1.ipynb",
      "provenance": [],
      "collapsed_sections": []
    },
    "kernelspec": {
      "name": "python3",
      "display_name": "Python 3"
    },
    "language_info": {
      "name": "python"
    }
  },
  "cells": [
    {
      "cell_type": "markdown",
      "metadata": {
        "id": "8XptbwtYr6f5"
      },
      "source": [
        "# **例題 1-1:** モンテカルロ法を用いた円周率$\\pi$の計算\n",
        "次のコードは，モンテカルロ法を用いて円の面積から円周率$\\pi$を求めるコードである．"
      ]
    },
    {
      "cell_type": "code",
      "metadata": {
        "id": "9kbwPoyFs9r1"
      },
      "source": [
        "import numpy as np\n",
        "import math\n",
        "\n",
        "sample = 10000\n",
        "count = 0\n",
        "\n",
        "for c in range(sample):\n",
        "  x = np.random.rand()\n",
        "  y = np.random.rand()\n",
        "  if (x*x + y*y) <= 1.0: count += 1 \n",
        "\n",
        "print(count/sample*4)"
      ],
      "execution_count": null,
      "outputs": []
    },
    {
      "cell_type": "markdown",
      "metadata": {
        "id": "4hl_O1Awr0kM"
      },
      "source": [
        "# **課題 1-1:** モンテカルロ法を用いたn次元球による円周率$\\pi$の計算\n",
        "例題1-1 を参考にして，n次元球の体積から円周率$\\pi$を求める関数をプログラムしなさい．\n",
        "なお$\\Gamma$関数の計算には，math.gamma()を用いて良い．"
      ]
    },
    {
      "cell_type": "code",
      "metadata": {
        "id": "397RO8CfsgzO"
      },
      "source": [
        "import numpy as np\n",
        "import math\n",
        "\n",
        "def calc_pi(n, sample):\n",
        "  ans = 3.14\n",
        "  return ans"
      ],
      "execution_count": 1,
      "outputs": []
    },
    {
      "cell_type": "markdown",
      "metadata": {
        "id": "F6JEIUE1ugP3"
      },
      "source": [
        "課題1-1の確認用コード (適当に数値を変えながらデバックや実験に使うと良い)"
      ]
    },
    {
      "cell_type": "code",
      "metadata": {
        "id": "asSOsSzQuSrT"
      },
      "source": [
        "pi = calc_pi(2, 100000)\n",
        "print(pi)"
      ],
      "execution_count": null,
      "outputs": []
    },
    {
      "cell_type": "markdown",
      "metadata": {
        "id": "_dxx4YnVvFUe"
      },
      "source": [
        "# **課題 1-2:** 課題1-1の結果の考察\n",
        "次元$n$を大きくすると，求まる円周率$\\pi$の誤差は大きくなるように見える．その理由が何故なのか考察し，答えなさい．グラフを用いたり，追加のコードを書いても良い．"
      ]
    },
    {
      "cell_type": "markdown",
      "metadata": {
        "id": "G0vodbqpvZRi"
      },
      "source": [
        "ここに課題1-2の解答を記述しなさい．"
      ]
    }
  ]
}