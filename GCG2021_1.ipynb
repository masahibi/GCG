{
 "nbformat": 4,
 "nbformat_minor": 0,
 "metadata": {
  "colab": {
   "name": "GCG2021-1.ipynb",
   "provenance": [],
   "collapsed_sections": []
  },
  "kernelspec": {
   "name": "python3",
   "language": "python",
   "display_name": "Python 3"
  },
  "language_info": {
   "name": "python"
  }
 },
 "cells": [
  {
   "cell_type": "markdown",
   "metadata": {
    "id": "8XptbwtYr6f5"
   },
   "source": [
    "# **例題 1-1:** モンテカルロ法を用いた円周率$\\pi$の計算\n",
    "次のコードは，モンテカルロ法を用いて円の面積から円周率$\\pi$を求めるコードである．"
   ]
  },
  {
   "cell_type": "code",
   "metadata": {
    "id": "9kbwPoyFs9r1"
   },
   "source": [
    "import numpy as np\n",
    "import math\n",
    "\n",
    "sample = 10000\n",
    "count = 0\n",
    "\n",
    "for c in range(sample):\n",
    "  x = np.random.rand()\n",
    "  y = np.random.rand()\n",
    "  if (x*x + y*y) <= 1.0: count += 1 \n",
    "\n",
    "print(count/sample*4)"
   ],
   "execution_count": 1,
   "outputs": [
    {
     "name": "stdout",
     "output_type": "stream",
     "text": [
      "3.1444\n"
     ]
    }
   ]
  },
  {
   "cell_type": "markdown",
   "metadata": {
    "id": "4hl_O1Awr0kM"
   },
   "source": [
    "# **課題 1-1:** モンテカルロ法を用いたn次元球による円周率$\\pi$の計算\n",
    "例題1-1 を参考にして，n次元球の体積から円周率$\\pi$を求める関数をプログラムしなさい．\n",
    "なお$\\Gamma$関数の計算には，math.gamma()を用いて良い．"
   ]
  },
  {
   "cell_type": "code",
   "metadata": {
    "id": "397RO8CfsgzO"
   },
   "source": [
    "import numpy as np\n",
    "import math\n",
    "\n",
    "def calc_pi(n, sample):\n",
    "  count = 0  # 範囲内かの判定用\n",
    "  for c in range(sample):  # 実行回数ぶん回す\n",
    "    prot = 0  # 点の座標の初期化\n",
    "    for i in range(n):  # 次元ぶん回す\n",
    "      x = np.random.rand()  # 軸上のランダムな値を取得\n",
    "      prot += x*x  # （x^2+y^2+z^2 みたいな）\n",
    "    if prot <= 1.0: count += 1  # 文字座標が範囲内ならカウント\n",
    "\n",
    "  ans = ((count / sample) * (2**n) * math.gamma(n / 2 + 1)) ** (2/n)  # πの求め方\n",
    "  return ans  # 結界を返す"
   ],
   "execution_count": 17,
   "outputs": []
  },
  {
   "cell_type": "markdown",
   "metadata": {
    "id": "F6JEIUE1ugP3"
   },
   "source": [
    "課題1-1の確認用コード (適当に数値を変えながらデバックや実験に使うと良い)"
   ]
  },
  {
   "cell_type": "code",
   "metadata": {
    "id": "asSOsSzQuSrT"
   },
   "source": [
    "pi = calc_pi(3, 100000)\n",
    "print(pi)"
   ],
   "execution_count": 41,
   "outputs": [
    {
     "name": "stdout",
     "output_type": "stream",
     "text": [
      "3.1450366075150185\n"
     ]
    }
   ]
  },
  {
   "cell_type": "markdown",
   "metadata": {
    "id": "_dxx4YnVvFUe"
   },
   "source": [
    "# **課題 1-2:** 課題1-1の結果の考察\n",
    "次元$n$を大きくすると，求まる円周率$\\pi$の誤差は大きくなるように見える．その理由が何故なのか考察し，答えなさい．グラフを用いたり，追加のコードを書いても良い．"
   ]
  },
  {
   "cell_type": "markdown",
   "metadata": {
    "id": "G0vodbqpvZRi"
   },
   "source": [
    "次元の呪いとは、データの次元数が大きくなり過ぎると、そのデータで表現できる組み合わせが飛躍的に多くなってしまい、その結果、手元にある有限なサンプルデータでは十分な学習結果が得られなくなることを指しています。\n",
    "\n",
    "データの次元（要素数）が大きくなると、そのデータを分析する際の計算量が指数関数的に増大する現象を指す。\n",
    "\n",
    "高次元になればなるほど円が円を囲む正方形(立方体)に対して比率が小さくなっていって円の中に点が打たれる確率が0に近くなるから\n",
    "\n"
   ]
  }
 ]
}