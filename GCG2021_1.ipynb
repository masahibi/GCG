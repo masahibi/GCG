{
 "nbformat": 4,
 "nbformat_minor": 0,
 "metadata": {
  "colab": {
   "name": "GCG2021-1.ipynb",
   "provenance": [],
   "collapsed_sections": []
  },
  "kernelspec": {
   "name": "python3",
   "language": "python",
   "display_name": "Python 3"
  },
  "language_info": {
   "name": "python"
  }
 },
 "cells": [
  {
   "cell_type": "markdown",
   "metadata": {
    "id": "8XptbwtYr6f5"
   },
   "source": [
    "# **例題 1-1:** モンテカルロ法を用いた円周率$\\pi$の計算\n",
    "次のコードは，モンテカルロ法を用いて円の面積から円周率$\\pi$を求めるコードである．"
   ]
  },
  {
   "cell_type": "code",
   "metadata": {
    "id": "9kbwPoyFs9r1"
   },
   "source": [
    "import numpy as np\n",
    "import math\n",
    "\n",
    "sample = 10000\n",
    "count = 0\n",
    "\n",
    "for c in range(sample):\n",
    "  x = np.random.rand()\n",
    "  y = np.random.rand()\n",
    "  if (x*x + y*y) <= 1.0: count += 1 \n",
    "\n",
    "print(count/sample*4)"
   ],
   "execution_count": 1,
   "outputs": [
    {
     "name": "stdout",
     "output_type": "stream",
     "text": [
      "3.1604\n"
     ]
    }
   ]
  },
  {
   "cell_type": "markdown",
   "metadata": {
    "id": "4hl_O1Awr0kM"
   },
   "source": [
    "# **課題 1-1:** モンテカルロ法を用いたn次元球による円周率$\\pi$の計算\n",
    "例題1-1 を参考にして，n次元球の体積から円周率$\\pi$を求める関数をプログラムしなさい．\n",
    "なお$\\Gamma$関数の計算には，math.gamma()を用いて良い．"
   ]
  },
  {
   "cell_type": "code",
   "metadata": {
    "id": "397RO8CfsgzO"
   },
   "source": [
    "import numpy as np\n",
    "import math\n",
    "\n",
    "def calc_pi(n, sample):\n",
    "  count = 0  # 範囲内かの判定用\n",
    "  for c in range(sample):  # 実行回数ぶん回す\n",
    "    x = np.random.rand(n)  # それぞれの軸のランダムな値を取得\n",
    "    prot = sum(np.square(x))  # （x^2+y^2+z^2 みたいな）np.square: 配列要素の２乗, sum:配列要素の和\n",
    "    if prot <= 1.0: count += 1  # prot座標が範囲内ならカウント\n",
    "\n",
    "  ans = pow((count / sample) * pow(2, n) * math.gamma(n / 2 + 1), 2/n)  # πの求め方\n",
    "  return ans  # 結界を返す"
   ],
   "execution_count": 18,
   "outputs": []
  },
  {
   "cell_type": "markdown",
   "metadata": {
    "id": "F6JEIUE1ugP3"
   },
   "source": [
    "課題1-1の確認用コード (適当に数値を変えながらデバックや実験に使うと良い)"
   ]
  },
  {
   "cell_type": "code",
   "metadata": {
    "id": "asSOsSzQuSrT"
   },
   "source": [
    "pi = calc_pi(3, 100000)\n",
    "print(pi)"
   ],
   "execution_count": 17,
   "outputs": [
    {
     "name": "stdout",
     "output_type": "stream",
     "text": [
      "3.1385568176686043\n"
     ]
    }
   ]
  },
  {
   "cell_type": "markdown",
   "metadata": {
    "id": "_dxx4YnVvFUe"
   },
   "source": [
    "# **課題 1-2:** 課題1-1の結果の考察\n",
    "次元$n$を大きくすると，求まる円周率$\\pi$の誤差は大きくなるように見える．その理由が何故なのか考察し，答えなさい．グラフを用いたり，追加のコードを書いても良い．"
   ]
  },
  {
   "cell_type": "markdown",
   "metadata": {
    "id": "G0vodbqpvZRi",
    "pycharm": {
     "name": "#%% md\n"
    }
   },
   "source": [
    "下記のコードの実行結果から、次元を増やしていくと球の体積が5次元くらいまでは少し大きくなるがその後からは次第に小さくなっていくことがわかる。\n",
    "よって、全体の範囲の立方体に対して点を打たれる球の体積が小さくなっていき、球の中に打たれる確率が小さくなるため、プロット数が安定せず、円周率の誤差が大きくなっていくのではないかと考える。"
   ]
  },
  {
   "cell_type": "code",
   "execution_count": 31,
   "outputs": [
    {
     "name": "stdout",
     "output_type": "stream",
     "text": [
      "2 3.141592653589793\n",
      "3 4.1887902047863905\n",
      "4 4.934802200544679\n",
      "5 5.263789013914325\n",
      "6 5.167712780049969\n",
      "7 4.7247659703314016\n",
      "8 4.058712126416768\n",
      "9 3.2985089027387064\n",
      "10 2.550164039877345\n",
      "11 1.8841038793898994\n",
      "12 1.3352627688545893\n",
      "13 0.910628754783283\n",
      "14 0.5992645293207919\n",
      "15 0.38144328082330436\n"
     ]
    }
   ],
   "source": [
    "import math\n",
    "for i in range(2, 16):  # 計算がうまくいってるかの確認として２次元から！\n",
    "    V = pow(math.pi, i / 2) / math.gamma(i / 2 + 1) * pow(1, i)\n",
    "    print(i, V)"
   ],
   "metadata": {
    "collapsed": false,
    "pycharm": {
     "name": "#%%\n"
    }
   }
  }
 ]
}